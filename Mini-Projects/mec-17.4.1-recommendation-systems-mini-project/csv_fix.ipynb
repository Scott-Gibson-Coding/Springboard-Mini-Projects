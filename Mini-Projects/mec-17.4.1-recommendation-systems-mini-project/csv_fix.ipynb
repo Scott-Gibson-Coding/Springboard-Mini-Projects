{
 "cells": [
  {
   "cell_type": "markdown",
   "id": "c3431a3c",
   "metadata": {},
   "source": [
    "Since the movie titles csv file contains commas in the names of the movies, pandas sees that as multiple columns. This can be amended by enclosing the third column in quotation marks."
   ]
  },
  {
   "cell_type": "code",
   "execution_count": 1,
   "id": "a06e0a05",
   "metadata": {
    "scrolled": true
   },
   "outputs": [],
   "source": [
    "# read in each line of the csv as a row\n",
    "\n",
    "f = open('data/movie_titles.csv', 'r')\n",
    "rows = f.read().split('\\n')\n",
    "rows[:5]\n",
    "\n",
    "f.close()"
   ]
  },
  {
   "cell_type": "code",
   "execution_count": 2,
   "id": "fa0fd9ca",
   "metadata": {
    "scrolled": true
   },
   "outputs": [
    {
     "data": {
      "text/plain": [
       "[['1', '2003', 'Dinosaur Planet'],\n",
       " ['2', '2004', 'Isle of Man TT 2004 Review'],\n",
       " ['3', '1997', 'Character'],\n",
       " ['4', '1994', \"Paula Abdul's Get Up & Dance\"],\n",
       " ['5', '2004', 'The Rise and Fall of ECW']]"
      ]
     },
     "execution_count": 2,
     "metadata": {},
     "output_type": "execute_result"
    }
   ],
   "source": [
    "# split each line by commas, first two elements are individual columns, rest should be the name of the movie\n",
    "rows_split = [row.split(',', 2) for row in rows]\n",
    "rows_split[:5]"
   ]
  },
  {
   "cell_type": "code",
   "execution_count": 3,
   "id": "64dd3902",
   "metadata": {},
   "outputs": [
    {
     "data": {
      "text/html": [
       "<div>\n",
       "<style scoped>\n",
       "    .dataframe tbody tr th:only-of-type {\n",
       "        vertical-align: middle;\n",
       "    }\n",
       "\n",
       "    .dataframe tbody tr th {\n",
       "        vertical-align: top;\n",
       "    }\n",
       "\n",
       "    .dataframe thead th {\n",
       "        text-align: right;\n",
       "    }\n",
       "</style>\n",
       "<table border=\"1\" class=\"dataframe\">\n",
       "  <thead>\n",
       "    <tr style=\"text-align: right;\">\n",
       "      <th></th>\n",
       "      <th>0</th>\n",
       "      <th>1</th>\n",
       "      <th>2</th>\n",
       "    </tr>\n",
       "  </thead>\n",
       "  <tbody>\n",
       "    <tr>\n",
       "      <th>0</th>\n",
       "      <td>1</td>\n",
       "      <td>2003</td>\n",
       "      <td>Dinosaur Planet</td>\n",
       "    </tr>\n",
       "    <tr>\n",
       "      <th>1</th>\n",
       "      <td>2</td>\n",
       "      <td>2004</td>\n",
       "      <td>Isle of Man TT 2004 Review</td>\n",
       "    </tr>\n",
       "    <tr>\n",
       "      <th>2</th>\n",
       "      <td>3</td>\n",
       "      <td>1997</td>\n",
       "      <td>Character</td>\n",
       "    </tr>\n",
       "    <tr>\n",
       "      <th>3</th>\n",
       "      <td>4</td>\n",
       "      <td>1994</td>\n",
       "      <td>Paula Abdul's Get Up &amp; Dance</td>\n",
       "    </tr>\n",
       "    <tr>\n",
       "      <th>4</th>\n",
       "      <td>5</td>\n",
       "      <td>2004</td>\n",
       "      <td>The Rise and Fall of ECW</td>\n",
       "    </tr>\n",
       "  </tbody>\n",
       "</table>\n",
       "</div>"
      ],
      "text/plain": [
       "   0     1                             2\n",
       "0  1  2003               Dinosaur Planet\n",
       "1  2  2004    Isle of Man TT 2004 Review\n",
       "2  3  1997                     Character\n",
       "3  4  1994  Paula Abdul's Get Up & Dance\n",
       "4  5  2004      The Rise and Fall of ECW"
      ]
     },
     "execution_count": 3,
     "metadata": {},
     "output_type": "execute_result"
    }
   ],
   "source": [
    "import pandas as pd\n",
    "\n",
    "df = pd.DataFrame(rows_split)\n",
    "df.head()"
   ]
  },
  {
   "cell_type": "code",
   "execution_count": 4,
   "id": "8ba9ad13",
   "metadata": {},
   "outputs": [
    {
     "data": {
      "text/html": [
       "<div>\n",
       "<style scoped>\n",
       "    .dataframe tbody tr th:only-of-type {\n",
       "        vertical-align: middle;\n",
       "    }\n",
       "\n",
       "    .dataframe tbody tr th {\n",
       "        vertical-align: top;\n",
       "    }\n",
       "\n",
       "    .dataframe thead th {\n",
       "        text-align: right;\n",
       "    }\n",
       "</style>\n",
       "<table border=\"1\" class=\"dataframe\">\n",
       "  <thead>\n",
       "    <tr style=\"text-align: right;\">\n",
       "      <th></th>\n",
       "      <th>0</th>\n",
       "      <th>1</th>\n",
       "      <th>2</th>\n",
       "    </tr>\n",
       "  </thead>\n",
       "  <tbody>\n",
       "    <tr>\n",
       "      <th>0</th>\n",
       "      <td>1</td>\n",
       "      <td>2003</td>\n",
       "      <td>\"Dinosaur Planet\"</td>\n",
       "    </tr>\n",
       "    <tr>\n",
       "      <th>1</th>\n",
       "      <td>2</td>\n",
       "      <td>2004</td>\n",
       "      <td>\"Isle of Man TT 2004 Review\"</td>\n",
       "    </tr>\n",
       "    <tr>\n",
       "      <th>2</th>\n",
       "      <td>3</td>\n",
       "      <td>1997</td>\n",
       "      <td>\"Character\"</td>\n",
       "    </tr>\n",
       "    <tr>\n",
       "      <th>3</th>\n",
       "      <td>4</td>\n",
       "      <td>1994</td>\n",
       "      <td>\"Paula Abdul's Get Up &amp; Dance\"</td>\n",
       "    </tr>\n",
       "    <tr>\n",
       "      <th>4</th>\n",
       "      <td>5</td>\n",
       "      <td>2004</td>\n",
       "      <td>\"The Rise and Fall of ECW\"</td>\n",
       "    </tr>\n",
       "  </tbody>\n",
       "</table>\n",
       "</div>"
      ],
      "text/plain": [
       "   0     1                               2\n",
       "0  1  2003               \"Dinosaur Planet\"\n",
       "1  2  2004    \"Isle of Man TT 2004 Review\"\n",
       "2  3  1997                     \"Character\"\n",
       "3  4  1994  \"Paula Abdul's Get Up & Dance\"\n",
       "4  5  2004      \"The Rise and Fall of ECW\""
      ]
     },
     "execution_count": 4,
     "metadata": {},
     "output_type": "execute_result"
    }
   ],
   "source": [
    "# for the final column, we need to tell csv that it is a string, not a collection of elements. So we must\n",
    "# add a double quote to both sides of the string.\n",
    "\n",
    "df[2] = [f'\"{name}\"' for name in df[2]]\n",
    "df.head()"
   ]
  },
  {
   "cell_type": "code",
   "execution_count": 7,
   "id": "c98440e1",
   "metadata": {},
   "outputs": [],
   "source": [
    "# finally, use pandas to write to the output csv file\n",
    "df.to_csv('data/movie_titles_fixed.csv', index=False, header=False, encoding='ISO-8859-1')"
   ]
  }
 ],
 "metadata": {
  "kernelspec": {
   "display_name": "Python 3 (ipykernel)",
   "language": "python",
   "name": "python3"
  },
  "language_info": {
   "codemirror_mode": {
    "name": "ipython",
    "version": 3
   },
   "file_extension": ".py",
   "mimetype": "text/x-python",
   "name": "python",
   "nbconvert_exporter": "python",
   "pygments_lexer": "ipython3",
   "version": "3.9.13"
  }
 },
 "nbformat": 4,
 "nbformat_minor": 5
}
